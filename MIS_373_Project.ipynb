{
  "nbformat": 4,
  "nbformat_minor": 0,
  "metadata": {
    "colab": {
      "provenance": [],
      "include_colab_link": true
    },
    "kernelspec": {
      "name": "python3",
      "display_name": "Python 3"
    },
    "language_info": {
      "name": "python"
    }
  },
  "cells": [
    {
      "cell_type": "markdown",
      "metadata": {
        "id": "view-in-github",
        "colab_type": "text"
      },
      "source": [
        "<a href=\"https://colab.research.google.com/github/AshMurali77/college-graduation-predictor/blob/main/MIS_373_Project.ipynb\" target=\"_parent\"><img src=\"https://colab.research.google.com/assets/colab-badge.svg\" alt=\"Open In Colab\"/></a>"
      ]
    },
    {
      "cell_type": "markdown",
      "source": [
        "###Import packages and load dataset"
      ],
      "metadata": {
        "id": "JeogZHfGt5Xz"
      }
    },
    {
      "cell_type": "code",
      "source": [
        "import pandas as pd\n",
        "import seaborn as sns\n",
        "import numpy as np\n",
        "from sklearn.metrics import accuracy_score\n",
        "import matplotlib.pyplot as plt\n",
        "\n",
        "\n",
        "pd.set_option(\"display.max_columns\", None)\n",
        "df = pd.read_csv('/content/sample_data/data.csv', sep=';')\n",
        "df"
      ],
      "metadata": {
        "id": "gdhYDWbpGHc2",
        "outputId": "f48d27bb-d8e0-4fd3-96ba-5a8ee9ff3966",
        "colab": {
          "base_uri": "https://localhost:8080/",
          "height": 356
        }
      },
      "execution_count": null,
      "outputs": [
        {
          "output_type": "error",
          "ename": "FileNotFoundError",
          "evalue": "[Errno 2] No such file or directory: '/content/sample_data/data.csv'",
          "traceback": [
            "\u001b[0;31m---------------------------------------------------------------------------\u001b[0m",
            "\u001b[0;31mFileNotFoundError\u001b[0m                         Traceback (most recent call last)",
            "\u001b[0;32m<ipython-input-2-4c6f742a59d9>\u001b[0m in \u001b[0;36m<cell line: 9>\u001b[0;34m()\u001b[0m\n\u001b[1;32m      7\u001b[0m \u001b[0;34m\u001b[0m\u001b[0m\n\u001b[1;32m      8\u001b[0m \u001b[0mpd\u001b[0m\u001b[0;34m.\u001b[0m\u001b[0mset_option\u001b[0m\u001b[0;34m(\u001b[0m\u001b[0;34m\"display.max_columns\"\u001b[0m\u001b[0;34m,\u001b[0m \u001b[0;32mNone\u001b[0m\u001b[0;34m)\u001b[0m\u001b[0;34m\u001b[0m\u001b[0;34m\u001b[0m\u001b[0m\n\u001b[0;32m----> 9\u001b[0;31m \u001b[0mdf\u001b[0m \u001b[0;34m=\u001b[0m \u001b[0mpd\u001b[0m\u001b[0;34m.\u001b[0m\u001b[0mread_csv\u001b[0m\u001b[0;34m(\u001b[0m\u001b[0;34m'/content/sample_data/data.csv'\u001b[0m\u001b[0;34m,\u001b[0m \u001b[0msep\u001b[0m\u001b[0;34m=\u001b[0m\u001b[0;34m';'\u001b[0m\u001b[0;34m)\u001b[0m\u001b[0;34m\u001b[0m\u001b[0;34m\u001b[0m\u001b[0m\n\u001b[0m\u001b[1;32m     10\u001b[0m \u001b[0mdf\u001b[0m\u001b[0;34m\u001b[0m\u001b[0;34m\u001b[0m\u001b[0m\n",
            "\u001b[0;32m/usr/local/lib/python3.10/dist-packages/pandas/io/parsers/readers.py\u001b[0m in \u001b[0;36mread_csv\u001b[0;34m(filepath_or_buffer, sep, delimiter, header, names, index_col, usecols, dtype, engine, converters, true_values, false_values, skipinitialspace, skiprows, skipfooter, nrows, na_values, keep_default_na, na_filter, verbose, skip_blank_lines, parse_dates, infer_datetime_format, keep_date_col, date_parser, date_format, dayfirst, cache_dates, iterator, chunksize, compression, thousands, decimal, lineterminator, quotechar, quoting, doublequote, escapechar, comment, encoding, encoding_errors, dialect, on_bad_lines, delim_whitespace, low_memory, memory_map, float_precision, storage_options, dtype_backend)\u001b[0m\n\u001b[1;32m    910\u001b[0m     \u001b[0mkwds\u001b[0m\u001b[0;34m.\u001b[0m\u001b[0mupdate\u001b[0m\u001b[0;34m(\u001b[0m\u001b[0mkwds_defaults\u001b[0m\u001b[0;34m)\u001b[0m\u001b[0;34m\u001b[0m\u001b[0;34m\u001b[0m\u001b[0m\n\u001b[1;32m    911\u001b[0m \u001b[0;34m\u001b[0m\u001b[0m\n\u001b[0;32m--> 912\u001b[0;31m     \u001b[0;32mreturn\u001b[0m \u001b[0m_read\u001b[0m\u001b[0;34m(\u001b[0m\u001b[0mfilepath_or_buffer\u001b[0m\u001b[0;34m,\u001b[0m \u001b[0mkwds\u001b[0m\u001b[0;34m)\u001b[0m\u001b[0;34m\u001b[0m\u001b[0;34m\u001b[0m\u001b[0m\n\u001b[0m\u001b[1;32m    913\u001b[0m \u001b[0;34m\u001b[0m\u001b[0m\n\u001b[1;32m    914\u001b[0m \u001b[0;34m\u001b[0m\u001b[0m\n",
            "\u001b[0;32m/usr/local/lib/python3.10/dist-packages/pandas/io/parsers/readers.py\u001b[0m in \u001b[0;36m_read\u001b[0;34m(filepath_or_buffer, kwds)\u001b[0m\n\u001b[1;32m    575\u001b[0m \u001b[0;34m\u001b[0m\u001b[0m\n\u001b[1;32m    576\u001b[0m     \u001b[0;31m# Create the parser.\u001b[0m\u001b[0;34m\u001b[0m\u001b[0;34m\u001b[0m\u001b[0m\n\u001b[0;32m--> 577\u001b[0;31m     \u001b[0mparser\u001b[0m \u001b[0;34m=\u001b[0m \u001b[0mTextFileReader\u001b[0m\u001b[0;34m(\u001b[0m\u001b[0mfilepath_or_buffer\u001b[0m\u001b[0;34m,\u001b[0m \u001b[0;34m**\u001b[0m\u001b[0mkwds\u001b[0m\u001b[0;34m)\u001b[0m\u001b[0;34m\u001b[0m\u001b[0;34m\u001b[0m\u001b[0m\n\u001b[0m\u001b[1;32m    578\u001b[0m \u001b[0;34m\u001b[0m\u001b[0m\n\u001b[1;32m    579\u001b[0m     \u001b[0;32mif\u001b[0m \u001b[0mchunksize\u001b[0m \u001b[0;32mor\u001b[0m \u001b[0miterator\u001b[0m\u001b[0;34m:\u001b[0m\u001b[0;34m\u001b[0m\u001b[0;34m\u001b[0m\u001b[0m\n",
            "\u001b[0;32m/usr/local/lib/python3.10/dist-packages/pandas/io/parsers/readers.py\u001b[0m in \u001b[0;36m__init__\u001b[0;34m(self, f, engine, **kwds)\u001b[0m\n\u001b[1;32m   1405\u001b[0m \u001b[0;34m\u001b[0m\u001b[0m\n\u001b[1;32m   1406\u001b[0m         \u001b[0mself\u001b[0m\u001b[0;34m.\u001b[0m\u001b[0mhandles\u001b[0m\u001b[0;34m:\u001b[0m \u001b[0mIOHandles\u001b[0m \u001b[0;34m|\u001b[0m \u001b[0;32mNone\u001b[0m \u001b[0;34m=\u001b[0m \u001b[0;32mNone\u001b[0m\u001b[0;34m\u001b[0m\u001b[0;34m\u001b[0m\u001b[0m\n\u001b[0;32m-> 1407\u001b[0;31m         \u001b[0mself\u001b[0m\u001b[0;34m.\u001b[0m\u001b[0m_engine\u001b[0m \u001b[0;34m=\u001b[0m \u001b[0mself\u001b[0m\u001b[0;34m.\u001b[0m\u001b[0m_make_engine\u001b[0m\u001b[0;34m(\u001b[0m\u001b[0mf\u001b[0m\u001b[0;34m,\u001b[0m \u001b[0mself\u001b[0m\u001b[0;34m.\u001b[0m\u001b[0mengine\u001b[0m\u001b[0;34m)\u001b[0m\u001b[0;34m\u001b[0m\u001b[0;34m\u001b[0m\u001b[0m\n\u001b[0m\u001b[1;32m   1408\u001b[0m \u001b[0;34m\u001b[0m\u001b[0m\n\u001b[1;32m   1409\u001b[0m     \u001b[0;32mdef\u001b[0m \u001b[0mclose\u001b[0m\u001b[0;34m(\u001b[0m\u001b[0mself\u001b[0m\u001b[0;34m)\u001b[0m \u001b[0;34m->\u001b[0m \u001b[0;32mNone\u001b[0m\u001b[0;34m:\u001b[0m\u001b[0;34m\u001b[0m\u001b[0;34m\u001b[0m\u001b[0m\n",
            "\u001b[0;32m/usr/local/lib/python3.10/dist-packages/pandas/io/parsers/readers.py\u001b[0m in \u001b[0;36m_make_engine\u001b[0;34m(self, f, engine)\u001b[0m\n\u001b[1;32m   1659\u001b[0m                 \u001b[0;32mif\u001b[0m \u001b[0;34m\"b\"\u001b[0m \u001b[0;32mnot\u001b[0m \u001b[0;32min\u001b[0m \u001b[0mmode\u001b[0m\u001b[0;34m:\u001b[0m\u001b[0;34m\u001b[0m\u001b[0;34m\u001b[0m\u001b[0m\n\u001b[1;32m   1660\u001b[0m                     \u001b[0mmode\u001b[0m \u001b[0;34m+=\u001b[0m \u001b[0;34m\"b\"\u001b[0m\u001b[0;34m\u001b[0m\u001b[0;34m\u001b[0m\u001b[0m\n\u001b[0;32m-> 1661\u001b[0;31m             self.handles = get_handle(\n\u001b[0m\u001b[1;32m   1662\u001b[0m                 \u001b[0mf\u001b[0m\u001b[0;34m,\u001b[0m\u001b[0;34m\u001b[0m\u001b[0;34m\u001b[0m\u001b[0m\n\u001b[1;32m   1663\u001b[0m                 \u001b[0mmode\u001b[0m\u001b[0;34m,\u001b[0m\u001b[0;34m\u001b[0m\u001b[0;34m\u001b[0m\u001b[0m\n",
            "\u001b[0;32m/usr/local/lib/python3.10/dist-packages/pandas/io/common.py\u001b[0m in \u001b[0;36mget_handle\u001b[0;34m(path_or_buf, mode, encoding, compression, memory_map, is_text, errors, storage_options)\u001b[0m\n\u001b[1;32m    857\u001b[0m         \u001b[0;32mif\u001b[0m \u001b[0mioargs\u001b[0m\u001b[0;34m.\u001b[0m\u001b[0mencoding\u001b[0m \u001b[0;32mand\u001b[0m \u001b[0;34m\"b\"\u001b[0m \u001b[0;32mnot\u001b[0m \u001b[0;32min\u001b[0m \u001b[0mioargs\u001b[0m\u001b[0;34m.\u001b[0m\u001b[0mmode\u001b[0m\u001b[0;34m:\u001b[0m\u001b[0;34m\u001b[0m\u001b[0;34m\u001b[0m\u001b[0m\n\u001b[1;32m    858\u001b[0m             \u001b[0;31m# Encoding\u001b[0m\u001b[0;34m\u001b[0m\u001b[0;34m\u001b[0m\u001b[0m\n\u001b[0;32m--> 859\u001b[0;31m             handle = open(\n\u001b[0m\u001b[1;32m    860\u001b[0m                 \u001b[0mhandle\u001b[0m\u001b[0;34m,\u001b[0m\u001b[0;34m\u001b[0m\u001b[0;34m\u001b[0m\u001b[0m\n\u001b[1;32m    861\u001b[0m                 \u001b[0mioargs\u001b[0m\u001b[0;34m.\u001b[0m\u001b[0mmode\u001b[0m\u001b[0;34m,\u001b[0m\u001b[0;34m\u001b[0m\u001b[0;34m\u001b[0m\u001b[0m\n",
            "\u001b[0;31mFileNotFoundError\u001b[0m: [Errno 2] No such file or directory: '/content/sample_data/data.csv'"
          ]
        }
      ]
    },
    {
      "cell_type": "markdown",
      "source": [
        "###Preprocessing"
      ],
      "metadata": {
        "id": "9tZv1SwZxRpA"
      }
    },
    {
      "cell_type": "markdown",
      "source": [
        "####Inspecting Dataset\n"
      ],
      "metadata": {
        "id": "yBlKhR1aIPu9"
      }
    },
    {
      "cell_type": "code",
      "source": [
        "df.isnull().sum()\n",
        "df.info()"
      ],
      "metadata": {
        "id": "JNF3Ivq3H-e-"
      },
      "execution_count": null,
      "outputs": []
    },
    {
      "cell_type": "markdown",
      "source": [
        "####Round Floats and convert to ints"
      ],
      "metadata": {
        "id": "-elCCrDpIWmm"
      }
    },
    {
      "cell_type": "code",
      "source": [
        "df = df.round()\n",
        "df[['Admission grade', 'Previous qualification (grade)', 'Curricular units 1st sem (grade)', 'Curricular units 2nd sem (grade)', 'Unemployment rate', 'Inflation rate', 'GDP']] = df[['Admission grade', 'Previous qualification (grade)', 'Curricular units 1st sem (grade)', 'Curricular units 2nd sem (grade)', 'Unemployment rate', 'Inflation rate', 'GDP']].astype(np.int64)\n",
        "df.info()"
      ],
      "metadata": {
        "id": "Vf--b6v5IaDr"
      },
      "execution_count": null,
      "outputs": []
    },
    {
      "cell_type": "markdown",
      "source": [
        "####Dropping Specific Columns"
      ],
      "metadata": {
        "id": "xAa85XeLJPfe"
      }
    },
    {
      "cell_type": "code",
      "source": [
        "df = df.drop(columns=['Application mode', 'Application order', 'International', 'Debtor', 'Marital status', 'Displaced', 'Nacionality', 'Father\\'s qualification', 'Mother\\'s qualification', 'Father\\'s occupation', 'Father\\'s qualification', 'Mother\\'s occupation', 'Mother\\'s qualification', 'Unemployment rate', 'Inflation rate', 'GDP'], axis=1)\n",
        "df.info()"
      ],
      "metadata": {
        "id": "XqY5Yn4vJPNB"
      },
      "execution_count": null,
      "outputs": []
    },
    {
      "cell_type": "markdown",
      "source": [
        "####Modifying target column so its numeric"
      ],
      "metadata": {
        "id": "Tr7dn9N5KAus"
      }
    },
    {
      "cell_type": "code",
      "source": [
        "df = df.replace({ 'Target' : { 'Dropout' : 0, 'Graduate' : 1, 'Enrolled' : 1 } })\n",
        "df.info()"
      ],
      "metadata": {
        "id": "JsrcikLQKDJQ"
      },
      "execution_count": null,
      "outputs": []
    },
    {
      "cell_type": "markdown",
      "source": [
        "####Data Visualization"
      ],
      "metadata": {
        "id": "jXFRkk5fKSvt"
      }
    },
    {
      "cell_type": "markdown",
      "source": [
        "####Data Correlation"
      ],
      "metadata": {
        "id": "cTpagHo7GF-8"
      }
    },
    {
      "cell_type": "code",
      "source": [
        "correlations = df.corr()\n",
        "correlations"
      ],
      "metadata": {
        "id": "M-V7V3nBGHmU"
      },
      "execution_count": null,
      "outputs": []
    },
    {
      "cell_type": "code",
      "source": [
        "# Remove the 'Target' correlation with itself before sorting\n",
        "correlations = correlations.drop('Target', axis=0)['Target'].abs()\n",
        "\n",
        "# Sort by absolute value and select the top 10\n",
        "top_features = correlations.sort_values(ascending=False).head(10)\n",
        "\n",
        "# Create a bar plot for these top features\n",
        "sns.barplot(x=top_features.values, y=top_features.index, palette='viridis')\n",
        "plt.title('Top 10 Features by Absolute Correlation with Target')\n",
        "plt.xlabel('Absolute Correlation')\n",
        "plt.ylabel('Features')\n",
        "plt.show()"
      ],
      "metadata": {
        "id": "EaucV8_e3ciH"
      },
      "execution_count": null,
      "outputs": []
    },
    {
      "cell_type": "code",
      "source": [
        "# Set the aesthetic style of the plots\n",
        "sns.set_style('whitegrid')\n",
        "\n",
        "# Adjust figure size right before creating the plot to ensure it applies\n",
        "plt.figure(figsize=(12, 8))\n",
        "\n",
        "# Create a count plot\n",
        "ax = sns.countplot(x='Target', hue='Target', data=df, palette='viridis')\n",
        "\n",
        "# Add a title and labels with increased font sizes for clarity\n",
        "plt.title('Count of Target', fontsize=16)\n",
        "plt.xlabel('Dropout Vs. Graduated', fontsize=14)\n",
        "plt.ylabel('Count', fontsize=14)\n",
        "\n",
        "# Move the legend to a better position if needed\n",
        "plt.legend(title='Target', title_fontsize='13', fontsize='12', loc='upper right')\n",
        "\n",
        "# Show the plot\n",
        "plt.show()\n"
      ],
      "metadata": {
        "id": "8pdZo6fWKUfO"
      },
      "execution_count": null,
      "outputs": []
    },
    {
      "cell_type": "markdown",
      "source": [
        "####Data Viz with respect to gender"
      ],
      "metadata": {
        "id": "x52WEOk5KtDw"
      }
    },
    {
      "cell_type": "code",
      "source": [
        "sns.set(rc={'figure.figsize':(12, 8)})\n",
        "\n",
        "sns.countplot(x=df['Gender'], hue=df['Target'])"
      ],
      "metadata": {
        "id": "VF7ATiECKyLU"
      },
      "execution_count": null,
      "outputs": []
    },
    {
      "cell_type": "markdown",
      "source": [
        "####Same thing with respect to scholarship status"
      ],
      "metadata": {
        "id": "WyHfgFtNLBic"
      }
    },
    {
      "cell_type": "code",
      "source": [
        "# Set the aesthetic style of the plots\n",
        "sns.set_style('whitegrid')\n",
        "\n",
        "# Adjust figure size right before creating the plot to ensure it applies\n",
        "plt.figure(figsize=(12, 8))\n",
        "\n",
        "# Create a count plot\n",
        "ax = sns.countplot(x='Scholarship holder', hue='Target', data=df, palette='viridis')\n",
        "\n",
        "# Add a title and labels with increased font sizes for clarity\n",
        "plt.title('Count of Participants by Scholarship holder, Grouped by Target', fontsize=16)\n",
        "plt.xlabel('Scholarship holder', fontsize=14)\n",
        "plt.ylabel('Count', fontsize=14)\n",
        "\n",
        "# Move the legend to a better position if needed\n",
        "plt.legend(title='Target', title_fontsize='13', fontsize='12', loc='upper right')\n",
        "\n",
        "# Show the plot\n",
        "plt.show()\n"
      ],
      "metadata": {
        "id": "veWlIe6qK_cN"
      },
      "execution_count": null,
      "outputs": []
    },
    {
      "cell_type": "markdown",
      "source": [
        "####Age"
      ],
      "metadata": {
        "id": "kWDb5duL4qDz"
      }
    },
    {
      "cell_type": "code",
      "source": [
        "# Set the aesthetic style of the plots\n",
        "sns.set_style('whitegrid')\n",
        "\n",
        "# Adjust figure size right before creating the plot to ensure it applies\n",
        "plt.figure(figsize=(12, 8))\n",
        "\n",
        "# Create a count plot\n",
        "ax = sns.countplot(x='Age at enrollment', hue='Target', data=df, palette='viridis')\n",
        "\n",
        "# Improve legibility by rotating x-axis labels if they overlap\n",
        "plt.xticks(rotation=45)\n",
        "\n",
        "# Add a title and labels with increased font sizes for clarity\n",
        "plt.title('Count of Participants by Age at Enrollment, Grouped by Target', fontsize=16)\n",
        "plt.xlabel('Age at Enrollment', fontsize=14)\n",
        "plt.ylabel('Count', fontsize=14)\n",
        "\n",
        "# Move the legend to a better position if needed\n",
        "plt.legend(title='Target', title_fontsize='13', fontsize='12', loc='upper right')\n",
        "\n",
        "# Show the plot\n",
        "plt.show()\n"
      ],
      "metadata": {
        "id": "eZ843Puo4p2V"
      },
      "execution_count": null,
      "outputs": []
    },
    {
      "cell_type": "markdown",
      "source": [
        "####We can visualize more as we see fit"
      ],
      "metadata": {
        "id": "MaT-Z926LFW0"
      }
    },
    {
      "cell_type": "markdown",
      "source": [
        "###Model Building"
      ],
      "metadata": {
        "id": "yn_QVjNE-xzS"
      }
    },
    {
      "cell_type": "markdown",
      "source": [
        "####Train/Test Setup"
      ],
      "metadata": {
        "id": "Jh59vNb2NsJ5"
      }
    },
    {
      "cell_type": "code",
      "source": [
        "from sklearn.model_selection import train_test_split\n",
        "#features\n",
        "x = df.drop(columns='Target', axis=1)\n",
        "#label\n",
        "y = df['Target']\n",
        "\n",
        "#Split into training and testing (70/30 split)\n",
        "X_train, X_test, y_train, y_test = train_test_split(x, y, test_size=0.3, random_state=2)\n",
        "X_train.shape, X_test.shape, y_train.shape, y_test.shape"
      ],
      "metadata": {
        "id": "cfsEYxtrLKZS"
      },
      "execution_count": null,
      "outputs": []
    },
    {
      "cell_type": "markdown",
      "source": [
        "####Logistic Regression training accuracy NOTE THAT WE REACHED MAX ITERATIONS HERE"
      ],
      "metadata": {
        "id": "mNRocK5LNu2R"
      }
    },
    {
      "cell_type": "code",
      "source": [
        "from sklearn.linear_model import LogisticRegression\n",
        "import seaborn as sns\n",
        "\n",
        "lr = LogisticRegression()\n",
        "lr.fit(X_train, y_train)\n",
        "traininig_pred_lr = lr.predict(X_train)\n",
        "lr_train_acc = accuracy_score(y_train, traininig_pred_lr)\n",
        "print('Training accuracy for decision tree:', lr_train_acc)"
      ],
      "metadata": {
        "id": "MOB7cXkHNt2w"
      },
      "execution_count": null,
      "outputs": []
    },
    {
      "cell_type": "code",
      "source": [],
      "metadata": {
        "id": "o2BQIO7TjgGd"
      },
      "execution_count": null,
      "outputs": []
    },
    {
      "cell_type": "markdown",
      "source": [
        "####Logistic Regression testing accuracy"
      ],
      "metadata": {
        "id": "a8xQ3Aq2Nw7g"
      }
    },
    {
      "cell_type": "code",
      "source": [
        "testing_pred_lr = lr.predict(X_test)\n",
        "lr_test_acc = accuracy_score(y_test, testing_pred_lr)\n",
        "print('Testing accuracy for logistic regression:', lr_test_acc)"
      ],
      "metadata": {
        "id": "c8XdS-0ONzBU"
      },
      "execution_count": null,
      "outputs": []
    },
    {
      "cell_type": "markdown",
      "source": [
        "### Decision Tree training accuracy"
      ],
      "metadata": {
        "id": "wewFIls1MoiA"
      }
    },
    {
      "cell_type": "code",
      "source": [
        "from sklearn.tree import DecisionTreeClassifier\n",
        "\n",
        "dt = DecisionTreeClassifier()\n",
        "dt.fit(X_train, y_train)\n",
        "traininig_pred_dt = dt.predict(X_train)\n",
        "dt_train_acc = accuracy_score(y_train, traininig_pred_dt)\n",
        "print('Training accuracy for decision tree:', dt_train_acc)"
      ],
      "metadata": {
        "id": "5QIzhp_SMref"
      },
      "execution_count": null,
      "outputs": []
    },
    {
      "cell_type": "code",
      "source": [
        "from sklearn import tree\n",
        "\n",
        "# plot of decision tree\n",
        "tree.plot_tree(dt, filled=True, feature_names=X_train.columns, class_names=['Graduated', 'Dropped Out'])"
      ],
      "metadata": {
        "id": "cf2TWdN9iVek"
      },
      "execution_count": null,
      "outputs": []
    },
    {
      "cell_type": "markdown",
      "source": [
        "#### Decision Tree testing accuracy"
      ],
      "metadata": {
        "id": "jkQ58grNMrxk"
      }
    },
    {
      "cell_type": "code",
      "source": [
        "testing_pred_dt = dt.predict(X_test)\n",
        "dt_test_acc = accuracy_score(y_test, testing_pred_dt)\n",
        "print('Testing accuracy for decision tree:', dt_test_acc)"
      ],
      "metadata": {
        "id": "r4OCyfxWMt7F"
      },
      "execution_count": null,
      "outputs": []
    },
    {
      "cell_type": "markdown",
      "source": [
        "####Random Forest training accuracy"
      ],
      "metadata": {
        "id": "6zzUeMukLgdA"
      }
    },
    {
      "cell_type": "code",
      "source": [
        "from sklearn.ensemble import RandomForestClassifier\n",
        "rf = RandomForestClassifier()\n",
        "rf.fit(X_train, y_train)\n",
        "traininig_pred_rf = rf.predict(X_train)\n",
        "rf_train_acc = accuracy_score(y_train, traininig_pred_rf)\n",
        "print('Training accuracy for random forest:', rf_train_acc)"
      ],
      "metadata": {
        "id": "D7BL5w2pLiHw"
      },
      "execution_count": null,
      "outputs": []
    },
    {
      "cell_type": "markdown",
      "source": [
        "####Random Forest testing accuracy"
      ],
      "metadata": {
        "id": "Xw4srKJVMOft"
      }
    },
    {
      "cell_type": "code",
      "source": [
        "testing_pred_rf = rf.predict(X_test)\n",
        "rf_test_acc = accuracy_score(y_test, testing_pred_rf)\n",
        "print('Testing accuracy for random forest:', rf_test_acc)"
      ],
      "metadata": {
        "id": "4Jgj_iYEMOFl"
      },
      "execution_count": null,
      "outputs": []
    },
    {
      "cell_type": "markdown",
      "source": [
        "###Model Evaluation and Feature Importance"
      ],
      "metadata": {
        "id": "ke9SklBKBUp0"
      }
    },
    {
      "cell_type": "markdown",
      "source": [
        "#### Accuracies"
      ],
      "metadata": {
        "id": "L_Xr5qZKOkvG"
      }
    },
    {
      "cell_type": "code",
      "source": [
        "acc_df = pd.DataFrame({\n",
        "    'Model Name' : ['Logistic Regression', 'Decision Tree', 'Random Forest'],\n",
        "    'Training Accuracy': [lr_train_acc, dt_train_acc, rf_train_acc],\n",
        "    'Testing Accuracy': [lr_test_acc, dt_test_acc, rf_test_acc],\n",
        "\n",
        "})"
      ],
      "metadata": {
        "id": "7CzqcHVwOQzt"
      },
      "execution_count": null,
      "outputs": []
    }
  ]
}